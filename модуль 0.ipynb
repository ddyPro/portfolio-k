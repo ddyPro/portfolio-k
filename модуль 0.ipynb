{
 "cells": [
  {
   "cell_type": "code",
   "execution_count": 9,
   "metadata": {},
   "outputs": [
    {
     "name": "stdout",
     "output_type": "stream",
     "text": [
      "Ваш алгоритм угадывает число в среднем за 7 попыток\n"
     ]
    },
    {
     "data": {
      "text/plain": [
       "7"
      ]
     },
     "execution_count": 9,
     "metadata": {},
     "output_type": "execute_result"
    }
   ],
   "source": [
    "import numpy as np\n",
    "from random import randint\n",
    "'''Загадываем число, создаем список из чисел в нужном нам диапазоне.\n",
    "    Функция ищет нужное число с помощью бинарного поиска\n",
    "    и возвращает число попыток'''\n",
    "\n",
    "\n",
    "def game_core_v2(number):\n",
    "    predict = np.random.randint(1, 100)\n",
    "    count = 1\n",
    "    massive = [i for i in range(1, 100)]\n",
    "    left = -1  # задаем левую\n",
    "    right = len(massive)  # и правую границу для нашего массива\n",
    "\n",
    "    while left < right-1:\n",
    "        count += 1\n",
    "        mid = (left + right) // 2  # задаем центр массива\n",
    "        if massive[mid] > predict:\n",
    "            right = mid\n",
    "        else:\n",
    "            left = mid\n",
    "    return count\n",
    "\n",
    "\n",
    "def score_game(game_core):\n",
    "    '''Запускаем игру 1000 раз,чтобы узнать,как быстро игра угадывает число'''\n",
    "    count_ls = []\n",
    "    np.random.seed(1)  # фиксируем RANDOM SEED,чтобы эксперимент был воспроизводим\n",
    "    random_array = np.random.randint(1, 101, size=(1000))\n",
    "    for number in random_array:\n",
    "        count_ls.append(game_core(number))\n",
    "    score = int(np.mean(count_ls))\n",
    "    print(f\"Ваш алгоритм угадывает число в среднем за {score} попыток\")\n",
    "    return(score)\n",
    "\n",
    "score_game(game_core_v2)"
   ]
  }
 ],
 "metadata": {
  "kernelspec": {
   "display_name": "Python 3",
   "language": "python",
   "name": "python3"
  },
  "language_info": {
   "codemirror_mode": {
    "name": "ipython",
    "version": 3
   },
   "file_extension": ".py",
   "mimetype": "text/x-python",
   "name": "python",
   "nbconvert_exporter": "python",
   "pygments_lexer": "ipython3",
   "version": "3.7.6"
  }
 },
 "nbformat": 4,
 "nbformat_minor": 4
}
